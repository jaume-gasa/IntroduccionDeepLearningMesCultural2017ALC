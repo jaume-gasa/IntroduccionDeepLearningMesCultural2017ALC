{
 "cells": [
  {
   "cell_type": "markdown",
   "metadata": {
    "slideshow": {
     "slide_type": "subslide"
    }
   },
   "source": [
    "# Material de la charla\n",
    "\n",
    "En la terminal:\n",
    "```bash\n",
    "git clone https://github.com/jaume-gasa/CharlaDeepLearningKerasUniversidadAlicante\n",
    "```"
   ]
  },
  {
   "cell_type": "markdown",
   "metadata": {
    "deletable": true,
    "editable": true,
    "slideshow": {
     "slide_type": "slide"
    }
   },
   "source": [
    "# Introducción al *deep learning* con Keras\n",
    "<div>\n",
    "#### Jaume Gasa Gómez\n",
    "\n",
    "\n",
    "<img src=\"./Figures/logo-python-espacio.png\" style=\"height: 450px; width:auto; margin:100px auto;display:block\"/>\n",
    "\n",
    "\n"
   ]
  },
  {
   "cell_type": "markdown",
   "metadata": {
    "deletable": true,
    "editable": true,
    "slideshow": {
     "slide_type": "slide"
    }
   },
   "source": [
    "# Me presento\n",
    "\n",
    "* Jaume Gasa\n",
    "* Grado en Ingeniería Informática\n",
    "* Actualmente en el Máster de Automática y Robótica\n",
    "* Email: *ua.jaume@gmail.com*\n",
    "* Python Alicante\n",
    "  * Telegram y Twitter: @python_alc\n",
    "* Python España\n",
    "  * Telegram: @PythonEsp \n",
    "  * Twitter:  @python_es"
   ]
  },
  {
   "cell_type": "markdown",
   "metadata": {
    "collapsed": true,
    "deletable": true,
    "editable": true,
    "slideshow": {
     "slide_type": "slide"
    }
   },
   "source": [
    "# ¿A quién va dirigida esta charla?\n",
    "\n",
    "* **_Estudiantes_** de informática, multimedia y otras ingenierías que trabajen con datos\n",
    "* Personas que desean dar sus **_primeros pasos_** en el mundo del *machine learning* o repasar los conceptos básicos\n",
    "* Conocer el *framework* Keras\n"
   ]
  },
  {
   "cell_type": "markdown",
   "metadata": {
    "deletable": true,
    "editable": true,
    "slideshow": {
     "slide_type": "slide"
    }
   },
   "source": [
    "# Lo que aprenderás:\n",
    "* Qué es *machine learning* y *deep learning*\n",
    "* Concepto de red neuronal\n",
    "* Tipos de redes neuronales\n",
    "* Encapsulación de datos con Pandas\n",
    "* Uso de Keras para crear redes neuronales"
   ]
  },
  {
   "cell_type": "markdown",
   "metadata": {
    "slideshow": {
     "slide_type": "slide"
    }
   },
   "source": [
    "\n",
    "# Qué es lo que tratamos de resolver exactamente\n",
    "\n",
    "Podemos separar los problemas de aprendizaje en:\n",
    "\n",
    "* Supervisados: los datos están etiquetados y se corresponden a una salida.\n",
    "  * Clasificación cuando el resultado el discreto (Reconocimiento de carácteres manuscritos)\n",
    "  * Regresión si la salida es un valor contínuo (El precio de una casa en base a sus m²)\n",
    "* No supervisados: muchos datos no etiquetados a los que se les busca una forma de agruparlos.\n",
    "\n"
   ]
  },
  {
   "cell_type": "markdown",
   "metadata": {
    "deletable": true,
    "editable": true,
    "slideshow": {
     "slide_type": "slide"
    }
   },
   "source": [
    "# De qué hablamos cuando hablamos de ~~amor~~ *deep learning*\n",
    "\n",
    "\n",
    "<img src=\"./Figures/all-learnings.png\" style=\"height: 600px; width:auto; margin:0px auto;display:block\"/>\n",
    "\n",
    "[Figura](http://www.deeplearningbook.org) por Ian Goodfellow, Yoshua Bengio and Aaron Courville"
   ]
  },
  {
   "cell_type": "markdown",
   "metadata": {
    "deletable": true,
    "editable": true,
    "slideshow": {
     "slide_type": "slide"
    }
   },
   "source": [
    "\n",
    "# Tipos de redes neuronales\n",
    "\n",
    "<img src=\"./Figures/types-neural-networks.png\" style=\"height: 500px; width:auto ; margin:0px auto;display:block ; scroll=1\"/>\n",
    "\n",
    "[Figure](http://www.asimovinstitute.org/wp-content/uploads/2016/09/neuralnetworks.png) by Fjodor van Veen\n"
   ]
  },
  {
   "cell_type": "markdown",
   "metadata": {
    "deletable": true,
    "editable": true,
    "slideshow": {
     "slide_type": "slide"
    }
   },
   "source": [
    "# Redes neuronales\n",
    "\n",
    "<img src=\"./Figures/neural-network.png\" style=\"height: 400px; width:auto; margin:0px auto;display:block\"/>\n",
    "\n",
    "[Figura](http://www.texample.net/media/tikz/examples/PDF/neural-network.pdf) por Kjell Magne Fauske / [CC BY-SA 3.0](https://creativecommons.org/licenses/by-sa/3.0/)\n",
    "\n",
    "* Entradas\n",
    "* Salida(s)\n",
    "* Pesos\n",
    "* Funciones de activación\n",
    "\n",
    "\n",
    "\n"
   ]
  },
  {
   "cell_type": "markdown",
   "metadata": {},
   "source": [
    "# *initializations*\n",
    "[keras.io/inizializations](https://keras.io/initializations/)\n",
    "\n",
    "Antes de entrenar, los pesos de la red han de ser inicializados, de no ser así, existe riesgo de saturación, lo que probocaría que la red no aprendiera por un aprendizaje muy lento o a estancarse en mínimos locales.\n",
    "\n",
    "Los métodos más comunes son:\n",
    "\n",
    "* uniform\n",
    "* normal\n",
    "* *glorot_uniform*\n",
    "* he_normal\n",
    "\n"
   ]
  },
  {
   "cell_type": "markdown",
   "metadata": {},
   "source": [
    "# *Activations*\n",
    "\n",
    "[keras.io/activations](https://keras.io/activations/)\n",
    "\n",
    "\n",
    "Permite a las redes neuronales aprender transformaciones no lineales complejas apartir de las entradas. Son las encargadas de _activar_ las neuronas.\n",
    "\n",
    "Las opciones más populares son:\n",
    "* Sigmoid\n",
    "* Tanh\n",
    "* ReLu\n",
    "* Softmax (_output layer_)"
   ]
  },
  {
   "cell_type": "markdown",
   "metadata": {
    "deletable": true,
    "editable": true,
    "slideshow": {
     "slide_type": "slide"
    }
   },
   "source": [
    "# *Regularizers*\n",
    "\n",
    "[keras.io/regularizers](https://keras.io/regularizers/)\n",
    "\n",
    "Métodos que se encargan de evitar el *overfitting*. Penaliza pesos excesivamente grandes.\n",
    "\n",
    "\n",
    "Dropout\n",
    "\n",
    "<img src=\"./Figures/dropout.jpeg\" style=\"height: 300px; width:auto; margin:0px auto;display:block\"/>\n",
    "\n",
    "\n",
    "[Figura](http://www.jmlr.org/papers/volume15/srivastava14a.old/source/srivastava14a.pdf) por N. Srivastava, G. E. Hinton,A. Krizhevsky,I. Sutskever,R. Salakhutdinov\n",
    "\n"
   ]
  },
  {
   "cell_type": "markdown",
   "metadata": {
    "slideshow": {
     "slide_type": "slide"
    }
   },
   "source": [
    "# *Objectives*\n",
    "\n",
    "[keras.io/objectives](https://keras.io/objectives/)\n",
    "\n",
    "También llamado *loss function* o *optimization score function* es el primer páramatro de los dos necesarios para compilar una red. Es la manera matemática de cuantificar como dista la estimación actual de la deseada, es decir, permite medir el rendimiento de nuestra red y determina la penalización de los errores.\n",
    "\n",
    "Algunas de las funciones más comunes son:\n",
    "\n",
    "* mean_squared_error\n",
    "* mean_squared_logarithmic_error\n",
    "* categorical_crossentropy\n",
    "* poisson\n"
   ]
  },
  {
   "cell_type": "markdown",
   "metadata": {
    "slideshow": {
     "slide_type": "slide"
    }
   },
   "source": [
    "# *Optimizadors*\n",
    "[keras.io/optimizers](https://keras.io/optimizers/)\n",
    "\n",
    "Es el segundo parámetro necesario para compilar la red. El proceso de aprendizaje es un problema de optimización global en el cual los pesos de la red se van actualizando (aprendiendo) según se va minimizando la función de pérdida.\n",
    "\n",
    "Ejemplos de optimizadores:\n",
    "\n",
    "* *Stochastic gradient descent* (SGD)\n",
    "* RMSprop\n",
    "* Adam\n",
    "* Adagrad\n",
    "* Adamax\n"
   ]
  },
  {
   "cell_type": "markdown",
   "metadata": {
    "collapsed": true,
    "deletable": true,
    "editable": true,
    "slideshow": {
     "slide_type": "slide"
    }
   },
   "source": [
    "# Instalación del entorno de trabajo\n",
    "\n",
    "## Instalación *virtualenv*\n",
    " ```bash\n",
    " pip install virtualenv\n",
    " pip install virtualenvwrapper\n",
    " mkdir ~/Virtualenvs\n",
    " export WORKON_HOME=~/Virtualenvs\n",
    " source /usr/local/bin/virtualenvwrapper.sh\n",
    "```\n",
    "\n",
    "## Crear entorno virtual\n",
    "\n",
    "```bash\n",
    "mkvirtualenv nombre_que_quieras\n",
    "```\n",
    "\n",
    "## Entrar en el entorno virutal\n",
    "\n",
    "```bash\n",
    "workon nombre_que_le_hayas_puesto\n",
    "```\n",
    "\n",
    "## Instalación mediante requirements.txt\n",
    "```bash\n",
    "pip install requirements.txt\n",
    "```\n",
    "\n",
    "\n"
   ]
  },
  {
   "cell_type": "markdown",
   "metadata": {
    "slideshow": {
     "slide_type": "slide"
    }
   },
   "source": [
    "# Abrir un *notebook*\n",
    "\n",
    "```jupyter notebook``` abrirá una instancia de tu navegador donde podrás interactuar con el *notebook*\n",
    "\n",
    "```bash\n",
    "cd directorio_del_notebook\n",
    "jupyter notebook\n",
    "```"
   ]
  },
  {
   "cell_type": "markdown",
   "metadata": {
    "deletable": true,
    "editable": true,
    "slideshow": {
     "slide_type": "slide"
    }
   },
   "source": [
    "# Ejemplo práctico\n",
    "## ¿Sobrevivirá al Titanic?\n",
    "\n",
    "El 15 de Abril de 1912, el Titanic colisionó con un iceberg. En el accidente murieron 1502 de las 2224 personas abordo.\n",
    "\n",
    "El dataset es un csv compuesto por información sobre los pasajeros del Titanic, por ejemplo, el nombre, sexo, edad, clase social, si sobrevivió o no etc."
   ]
  },
  {
   "cell_type": "markdown",
   "metadata": {
    "deletable": true,
    "editable": true,
    "slideshow": {
     "slide_type": "slide"
    }
   },
   "source": [
    "## Adquisición y tratamiento de datos\n",
    "Pandas es una librería de alto rendimiento para encapsular datos."
   ]
  },
  {
   "cell_type": "code",
   "execution_count": null,
   "metadata": {
    "collapsed": false,
    "deletable": true,
    "editable": true,
    "slideshow": {
     "slide_type": "fragment"
    }
   },
   "outputs": [],
   "source": [
    "import pandas as pd\n",
    "from sklearn.model_selection import train_test_split\n",
    "\n",
    "data_frame = pd.read_csv(\"./Data/train.csv\")\n",
    "train_data_frame, test_data_frame = train_test_split(data_frame, test_size = 0.2)\n"
   ]
  },
  {
   "cell_type": "markdown",
   "metadata": {
    "deletable": true,
    "editable": true,
    "slideshow": {
     "slide_type": "slide"
    }
   },
   "source": [
    "### Limpieza y observación de los datos\n",
    "A continuación nos desharemos de los datos que no nos interesen"
   ]
  },
  {
   "cell_type": "code",
   "execution_count": null,
   "metadata": {
    "collapsed": false,
    "deletable": true,
    "editable": true
   },
   "outputs": [],
   "source": [
    "test_data_frame.info()\n",
    "test_data_frame = test_data_frame.drop(['PassengerId', 'Name', 'Ticket', 'Cabin'], axis=1)\n",
    "test_data_frame = test_data_frame.dropna()\n",
    "test_data_frame.info()"
   ]
  },
  {
   "cell_type": "code",
   "execution_count": null,
   "metadata": {
    "collapsed": false,
    "deletable": true,
    "editable": true,
    "slideshow": {
     "slide_type": "fragment"
    }
   },
   "outputs": [],
   "source": [
    "train_data_frame = train_data_frame.drop(['PassengerId', 'Name', 'Ticket', 'Cabin'], axis=1)\n",
    "\n",
    "train_data_frame.info()"
   ]
  },
  {
   "cell_type": "markdown",
   "metadata": {
    "deletable": true,
    "editable": true,
    "slideshow": {
     "slide_type": "slide"
    }
   },
   "source": [
    "### Limpieza y observación de los datos\n",
    "El atributo *age* tiene menos valores que el número de elementos, luego hay personas sin edad conocida.\n",
    "\n",
    "Para inicializar esos valores, se usará la función **_fillna_**"
   ]
  },
  {
   "cell_type": "code",
   "execution_count": null,
   "metadata": {
    "collapsed": false,
    "deletable": true,
    "editable": true,
    "slideshow": {
     "slide_type": "fragment"
    }
   },
   "outputs": [],
   "source": [
    "\n",
    "age_mean = train_data_frame['Age'].mean()\n",
    "# age_mean = train_data_frame['Age'].describe()['mean']\n",
    "train_data_frame['Age'] = train_data_frame['Age'].fillna(age_mean)\n",
    "test_data_frame['Age'] = test_data_frame['Age'].fillna(age_mean)\n"
   ]
  },
  {
   "cell_type": "markdown",
   "metadata": {
    "deletable": true,
    "editable": true,
    "slideshow": {
     "slide_type": "slide"
    }
   },
   "source": [
    "### Limpieza y observación de los datos\n",
    "\n",
    "Los atributos *Sex* y *Embarked* no son números, por lo que, para usarlo como entradas a la red neuronal, hay que transformarlos."
   ]
  },
  {
   "cell_type": "code",
   "execution_count": null,
   "metadata": {
    "collapsed": false,
    "deletable": true,
    "editable": true,
    "scrolled": true,
    "slideshow": {
     "slide_type": "fragment"
    }
   },
   "outputs": [],
   "source": [
    "from collections import Counter\n",
    "\n",
    "Counter(train_data_frame['Embarked'])  # Más común\n",
    "train_data_frame['Embarked'] = train_data_frame['Embarked'].fillna('S')\n",
    "train_data_frame['Embarked'] = train_data_frame['Embarked'].map({'C':1, 'S':2, 'Q':3})\n",
    "\n",
    "test_data_frame['Embarked'] = test_data_frame['Embarked'].fillna('S')\n",
    "test_data_frame['Embarked'] = test_data_frame['Embarked'].map({'C':1, 'S':2, 'Q':3})\n",
    "\n",
    "train_data_frame['Sex'] = train_data_frame['Sex'].map({'female':0, 'male':1})\n",
    "test_data_frame['Sex'] = test_data_frame['Sex'].map({'female':0, 'male':1})\n",
    "\n",
    "train_data_frame.info()\n",
    "print('-------------------')\n",
    "test_data_frame.info()"
   ]
  },
  {
   "cell_type": "code",
   "execution_count": null,
   "metadata": {
    "collapsed": false,
    "slideshow": {
     "slide_type": "slide"
    }
   },
   "outputs": [],
   "source": [
    "### Limpieza y observación de los datos\n",
    "\n",
    "Los atributos *Sex* y *Embarked* no son números, por lo que, para usarlo como entradas a la red neuronal, hay que transformarlos."
   ]
  },
  {
   "cell_type": "code",
   "execution_count": null,
   "metadata": {
    "collapsed": false,
    "deletable": true,
    "editable": true,
    "slideshow": {
     "slide_type": "fragment"
    }
   },
   "outputs": [],
   "source": [
    "num_features = train_data_frame[train_data_frame.columns.difference(['Survived'])].shape[1]\n",
    "X_train = train_data_frame[train_data_frame.columns.difference(['Survived'])].values\n",
    "y_train = pd.get_dummies(train_data_frame['Survived']).values\n",
    "\n",
    "test_data_frame.info()\n",
    "\n",
    "X_test = test_data_frame[test_data_frame.columns.difference(['Survived'])].values\n",
    "y_test = pd.get_dummies(test_data_frame['Survived']).values"
   ]
  },
  {
   "cell_type": "markdown",
   "metadata": {
    "deletable": true,
    "editable": true,
    "slideshow": {
     "slide_type": "slide"
    }
   },
   "source": [
    "# Creación de la red neuronal\n",
    "\n",
    "Utilizando keras montaremos una red neuronal para que aprenda qué tipos de persona (en base a sus *features*) sobrevivieron y qué tipo, no."
   ]
  },
  {
   "cell_type": "code",
   "execution_count": null,
   "metadata": {
    "collapsed": false,
    "deletable": true,
    "editable": true,
    "slideshow": {
     "slide_type": "fragment"
    }
   },
   "outputs": [],
   "source": [
    "from keras.models import Sequential\n",
    "from keras.layers import Dense, Activation, Dropout\n",
    "from keras.layers.normalization import BatchNormalization\n",
    "from keras.optimizers import *\n",
    "from keras.callbacks import EarlyStopping, ModelCheckpoint\n",
    "\n",
    "def make_neural_network():\n",
    "    # instantiate model\n",
    "    model = Sequential()\n",
    "\n",
    "    # Construimos la input layer\n",
    "    model.add(Dense(500, input_dim=num_features, init='glorot_uniform'))\n",
    "    model.add(BatchNormalization())\n",
    "    model.add(Activation('relu'))\n",
    "    model.add(Dropout(0.3))\n",
    "\n",
    "    # Primera hidden layer\n",
    "    model.add(Dense(500, init='glorot_uniform'))\n",
    "    model.add(BatchNormalization())\n",
    "    model.add(Activation('relu'))\n",
    "    model.add(Dropout(0.3))\n",
    "\n",
    "    # Segunda hidden layer\n",
    "    model.add(Dense(500, init='glorot_uniform'))\n",
    "    model.add(BatchNormalization())\n",
    "    model.add(Activation('relu'))\n",
    "    model.add(Dropout(0.3))\n",
    "\n",
    "    # output layer\n",
    "    model.add(Dense(output_dim=2, init='glorot_uniform'))\n",
    "    model.add(BatchNormalization())\n",
    "    model.add(Activation('softmax'))\n",
    "\n",
    "    # setting up the optimization of our weights \n",
    "    sgd = SGD(lr=0.1, decay=1e-6, momentum=0.9, nesterov=True)\n",
    "    model.compile(loss='categorical_crossentropy',\n",
    "                  optimizer=sgd,\n",
    "                  metrics=['accuracy'])\n",
    "    return model\n",
    "\n",
    "model = make_neural_network()\n"
   ]
  },
  {
   "cell_type": "markdown",
   "metadata": {
    "slideshow": {
     "slide_type": "slide"
    }
   },
   "source": [
    "# Entrenamiento de la red neuronal"
   ]
  },
  {
   "cell_type": "code",
   "execution_count": null,
   "metadata": {
    "collapsed": true,
    "slideshow": {
     "slide_type": "fragment"
    }
   },
   "outputs": [],
   "source": [
    "def train(model):# running the fitting\n",
    "model.fit(X_train, y_train, batch_size=32, nb_epoch=500, validation_split=0.2, verbose = 1,\n",
    "          callbacks=[\n",
    "              EarlyStopping(verbose=True,patience=40,monitor='val_loss'),\n",
    "              ModelCheckpoint('best-fit-model',monitor='val_loss',verbose=True,save_best_only=True)\n",
    "          ])\n",
    "train(model)"
   ]
  },
  {
   "cell_type": "markdown",
   "metadata": {
    "slideshow": {
     "slide_type": "slide"
    }
   },
   "source": [
    "# Clasificación del *dataset* de validación"
   ]
  },
  {
   "cell_type": "code",
   "execution_count": null,
   "metadata": {
    "collapsed": false,
    "deletable": true,
    "editable": true,
    "slideshow": {
     "slide_type": "fragment"
    }
   },
   "outputs": [],
   "source": [
    "model.load_weights('best-fit-model')\n",
    "\n",
    "model.fit(X_test, y_test)\n",
    "\n",
    "loss, accuracy = model.evaluate(X_test, y_test, verbose=0)\n",
    "print(\"Accuracy = {:.2f}\".format(accuracy))\n",
    "\n"
   ]
  },
  {
   "cell_type": "markdown",
   "metadata": {
    "slideshow": {
     "slide_type": "slide"
    }
   },
   "source": [
    "# Una vuelta de tuerca\n",
    "Un 70% no nos parece un resultado excesivamente bueno."
   ]
  },
  {
   "cell_type": "code",
   "execution_count": null,
   "metadata": {
    "collapsed": false,
    "deletable": true,
    "editable": true,
    "slideshow": {
     "slide_type": "fragment"
    }
   },
   "outputs": [],
   "source": [
    "from sklearn.preprocessing import StandardScaler\n",
    "\n",
    "scaler = StandardScaler()\n",
    "\n",
    "print(X_train)\n",
    "\n",
    "X_train = scaler.fit_transform(X_train)\n",
    "X_test = scaler.fit_transform(X_test)\n",
    "\n",
    "model_2 = make_neural_network()\n",
    "\n",
    "\n",
    "# running the fitting\n",
    "model_2.fit(X_train, y_train, batch_size=32, nb_epoch=500, validation_split=0.2, verbose = 1,\n",
    "          callbacks=[\n",
    "              EarlyStopping(verbose=True,patience=40,monitor='val_loss'),\n",
    "              ModelCheckpoint('best-fit-model',monitor='val_loss',verbose=True,save_best_only=True)\n",
    "          ])\n",
    "\n"
   ]
  },
  {
   "cell_type": "markdown",
   "metadata": {
    "slideshow": {
     "slide_type": "slide"
    }
   },
   "source": [
    "# Una vuelta de tuerca (2)"
   ]
  },
  {
   "cell_type": "code",
   "execution_count": null,
   "metadata": {
    "collapsed": false,
    "deletable": true,
    "editable": true,
    "slideshow": {
     "slide_type": "subslide"
    }
   },
   "outputs": [],
   "source": [
    "model_2.load_weights('best-fit-model')\n",
    "\n",
    "model_2.fit(X_test, y_test)\n",
    "\n",
    "\n",
    "loss, accuracy = model_2.evaluate(X_test, y_test, verbose=0)\n",
    "print(\"Accuracy = {:.2f}\".format(accuracy))"
   ]
  },
  {
   "cell_type": "markdown",
   "metadata": {},
   "source": [
    "# Inconvenientes del *deep learning*\n",
    "\n",
    "A pesar del cuento de que el *deep learning* aprende los features y los factores de manera automática,\n",
    "para problemas reales, sigue siendo necesario que los datos estén bien estructurados y relativamente adaptados\n",
    "al problema.\n",
    "\n",
    "Problemas complejos requieren **grandes** cantidades de datos.\n",
    "\n",
    "Conseguir resultados superiores al 98~99% de aciertos (lo que espera la gente de nuestro producto, sino \"no funciona\") requiere ajustes muchos hiperparámetros (*learning rate*, *loss function*, *mini-batch size*, número de iteraciones en la etapa de aprendizaje, *momentum*, selección de optimizadores...)\n",
    "\n",
    "¡Las matemáticas son necesarias! (especialmente la estadística -> [Statistics for hackers](https://www.youtube.com/watch?v=Iq9DzN6mvYA))\n"
   ]
  },
  {
   "cell_type": "markdown",
   "metadata": {
    "slideshow": {
     "slide_type": "slide"
    }
   },
   "source": [
    "# Recursos recomendados\n",
    "\n",
    "* (Libro) Deep learning por Ian Goodfellow, Yoshua Bengio y Aaron Courville\n",
    "    http://www.deeplearningbook.org/\n",
    "* (Curso *online*) Machine learning por Andrew Ng\n",
    "     https://www.coursera.org/learn/machine-learning\n",
    "* (Documentación) Scikit-learn\n",
    "     http://scikit-learn.org/stable/documentation.html\n",
    "* (Curso *online*) Deep Learning with TensorFlow por Saeed Aghabozorgi\n",
    "     https://bigdatauniversity.com/courses/deep-learning-tensorflow/\n",
    "* (Web) Kaggle, competiciones de ánalisis de datos y predicciones usando *machine learning*\n",
    "     https://kaggle.com"
   ]
  },
  {
   "cell_type": "markdown",
   "metadata": {
    "slideshow": {
     "slide_type": "slide"
    }
   },
   "source": [
    "<img src=\"./Figures/thank-you.gif\" style=\"height: 500px; width:auto ; margin:0px auto;display:block ; scroll=1\"/>\n"
   ]
  }
 ],
 "metadata": {
  "celltoolbar": "Slideshow",
  "kernelspec": {
   "display_name": "Python 3",
   "language": "python",
   "name": "python3"
  },
  "language_info": {
   "codemirror_mode": {
    "name": "ipython",
    "version": 3
   },
   "file_extension": ".py",
   "mimetype": "text/x-python",
   "name": "python",
   "nbconvert_exporter": "python",
   "pygments_lexer": "ipython3",
   "version": "3.6.0"
  }
 },
 "nbformat": 4,
 "nbformat_minor": 2
}
