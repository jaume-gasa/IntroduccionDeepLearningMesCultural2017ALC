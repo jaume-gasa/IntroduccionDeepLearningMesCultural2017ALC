{
 "cells": [
  {
   "cell_type": "markdown",
   "metadata": {
    "deletable": true,
    "editable": true,
    "slideshow": {
     "slide_type": "slide"
    }
   },
   "source": [
    "\n",
    "# Material de la charla\n",
    "*editado: borrado los parches para los ordenadores de la EPS*\n",
    "*para la instalación de las librerías en un entorno virtual (es una buena práctica, aunque no necesaria) ve a la sección \"Instalación del entorno de trabajo\" *\n",
    "```bash\n",
    "git clone https://gitlab.com/Hyogen/MesCulturalAlicanteKeras.git\n",
    "cd MesCulturalAlicanteKeras\n",
    "pip install -r requirements.txt\n",
    "jupyter notebook\n",
    "```\n",
    "En caso de no funcionar, seguramente sea debido a la versión de python (aún no se ha llevado a cabo completamente la transición de python 2 a python 3) \n"
   ]
  },
  {
   "cell_type": "markdown",
   "metadata": {
    "deletable": true,
    "editable": true,
    "slideshow": {
     "slide_type": "slide"
    }
   },
   "source": [
    "# Introducción al *deep learning* con Keras\n",
    "<div>\n",
    "#### Jaume Gasa Gómez\n",
    "\n",
    "\n",
    "<img src=\"./Figures/logo-python.png\" style=\"height: 150px; width:auto; margin:100px auto;display:block\"/>\n",
    "\n",
    "\n"
   ]
  },
  {
   "cell_type": "markdown",
   "metadata": {
    "deletable": true,
    "editable": true,
    "slideshow": {
     "slide_type": "slide"
    }
   },
   "source": [
    "# Me presento\n",
    "\n",
    "* Jaume Gasa\n",
    "* Grado en Ingeniería Informática\n",
    "* Actualmente en el Máster de Automática y Robótica\n",
    "* Email: *ua.jaume@gmail.com*\n",
    "* Python Alicante\n",
    "  * Telegram y Twitter: @python_alc\n",
    "* Python España\n",
    "  * Telegram: @PythonEsp \n",
    "  * Twitter:  @python_es\n",
    "  * [Convención nacional de Python 2017, 22 al 24 de septiembre en Cáceres](http://2017.es.pycon.org/)"
   ]
  },
  {
   "cell_type": "markdown",
   "metadata": {
    "collapsed": true,
    "deletable": true,
    "editable": true,
    "slideshow": {
     "slide_type": "slide"
    }
   },
   "source": [
    "# ¿A quién va dirigida esta charla?\n",
    "\n",
    "* **_Estudiantes_** de informática, multimedia y otras ingenierías que trabajen con datos\n",
    "* Personas que desean dar sus **_primeros pasos_** en el mundo del *machine learning* o repasar los conceptos básicos\n",
    "* Conocer el *framework* Keras\n"
   ]
  },
  {
   "cell_type": "markdown",
   "metadata": {
    "deletable": true,
    "editable": true,
    "slideshow": {
     "slide_type": "slide"
    }
   },
   "source": [
    "# Lo que aprenderás:\n",
    "* Qué es *machine learning* y *deep learning*\n",
    "* Concepto de red neuronal\n",
    "* Tipos de redes neuronales\n",
    "* Encapsulación de datos con Pandas\n",
    "* Uso de Keras para crear redes neuronales"
   ]
  },
  {
   "cell_type": "markdown",
   "metadata": {
    "deletable": true,
    "editable": true,
    "slideshow": {
     "slide_type": "slide"
    }
   },
   "source": [
    "\n",
    "# Qué es lo que tratamos de resolver exactamente\n",
    "\n",
    "Podemos separar los problemas de aprendizaje en:\n",
    "\n",
    "* Supervisados: los datos están etiquetados y se corresponden a una salida.\n",
    "  * Clasificación cuando el resultado el discreto (Reconocimiento de carácteres manuscritos)\n",
    "  * Regresión si la salida es un valor contínuo (El precio de una casa en base a sus m²)\n",
    "* No supervisados: muchos datos no etiquetados a los que se les busca una forma de agruparlos.\n",
    "\n"
   ]
  },
  {
   "cell_type": "markdown",
   "metadata": {
    "deletable": true,
    "editable": true,
    "slideshow": {
     "slide_type": "slide"
    }
   },
   "source": [
    "# De qué hablamos cuando hablamos de ~~amor~~ *deep learning*\n",
    "\n",
    "\n",
    "<img src=\"./Figures/all-learnings.png\" style=\"height: 600px; width:auto; margin:0px auto;display:block\"/>\n",
    "\n",
    "[Figura](http://www.deeplearningbook.org) por Ian Goodfellow, Yoshua Bengio and Aaron Courville"
   ]
  },
  {
   "cell_type": "markdown",
   "metadata": {
    "deletable": true,
    "editable": true,
    "slideshow": {
     "slide_type": "slide"
    }
   },
   "source": [
    "\n",
    "# Tipos de redes neuronales\n",
    "\n",
    "<img src=\"./Figures/types-neural-networks.png\" style=\"height: 500px; width:auto ; margin:0px auto;display:block ; scroll=1\"/>\n",
    "\n",
    "[Figure](http://www.asimovinstitute.org/wp-content/uploads/2016/09/neuralnetworks.png) by Fjodor van Veen\n"
   ]
  },
  {
   "cell_type": "markdown",
   "metadata": {
    "deletable": true,
    "editable": true,
    "slideshow": {
     "slide_type": "slide"
    }
   },
   "source": [
    "# Redes neuronales\n",
    "\n",
    "<img src=\"./Figures/neural-network.png\" style=\"height: 400px; width:auto; margin:0px auto;display:block\"/>\n",
    "\n",
    "[Figura](http://www.texample.net/media/tikz/examples/PDF/neural-network.pdf) por Kjell Magne Fauske / [CC BY-SA 3.0](https://creativecommons.org/licenses/by-sa/3.0/)\n",
    "\n",
    "* Entradas\n",
    "* Salida(s)\n",
    "* Pesos\n",
    "* Funciones de activación\n",
    "\n",
    "\n",
    "\n"
   ]
  },
  {
   "cell_type": "markdown",
   "metadata": {
    "deletable": true,
    "editable": true,
    "slideshow": {
     "slide_type": "slide"
    }
   },
   "source": [
    "# *initializations*\n",
    "[keras.io/inizializations](https://keras.io/initializations/)\n",
    "\n",
    "Antes de entrenar, los pesos de la red han de ser inicializados, de no ser así, existe riesgo de saturación, lo que probocaría que la red no aprendiera por un aprendizaje muy lento o a estancarse en mínimos locales.\n",
    "\n",
    "Los métodos más comunes son:\n",
    "\n",
    "* uniform\n",
    "* normal\n",
    "* *glorot_uniform*\n",
    "* he_normal\n",
    "\n"
   ]
  },
  {
   "cell_type": "markdown",
   "metadata": {
    "deletable": true,
    "editable": true,
    "slideshow": {
     "slide_type": "slide"
    }
   },
   "source": [
    "# *Activations*\n",
    "\n",
    "[keras.io/activations](https://keras.io/activations/)\n",
    "\n",
    "\n",
    "Permite a las redes neuronales aprender transformaciones no lineales complejas apartir de las entradas. Son las encargadas de _activar_ las neuronas.\n",
    "\n",
    "Las opciones más populares son:\n",
    "* Sigmoid\n",
    "* Tanh\n",
    "* ReLu\n",
    "* Softmax (_output layer_)"
   ]
  },
  {
   "cell_type": "markdown",
   "metadata": {
    "deletable": true,
    "editable": true,
    "slideshow": {
     "slide_type": "slide"
    }
   },
   "source": [
    "# *Regularizers*\n",
    "\n",
    "[keras.io/regularizers](https://keras.io/regularizers/)\n",
    "\n",
    "Métodos que se encargan de evitar el *overfitting*. Penaliza pesos excesivamente grandes.\n",
    "\n",
    "\n",
    "Dropout\n",
    "\n",
    "<img src=\"./Figures/dropout.jpeg\" style=\"height: 300px; width:auto; margin:0px auto;display:block\"/>\n",
    "\n",
    "\n",
    "[Figura](http://www.jmlr.org/papers/volume15/srivastava14a.old/source/srivastava14a.pdf) por N. Srivastava, G. E. Hinton,A. Krizhevsky,I. Sutskever,R. Salakhutdinov\n",
    "\n"
   ]
  },
  {
   "cell_type": "markdown",
   "metadata": {
    "deletable": true,
    "editable": true,
    "slideshow": {
     "slide_type": "slide"
    }
   },
   "source": [
    "# *Objectives*\n",
    "\n",
    "[keras.io/objectives](https://keras.io/objectives/)\n",
    "\n",
    "También llamado *loss function* o *optimization score function* es el primer páramatro de los dos necesarios para compilar una red. Es la manera matemática de cuantificar como dista la estimación actual de la deseada, es decir, permite medir el rendimiento de nuestra red y determina la penalización de los errores.\n",
    "\n",
    "Algunas de las funciones más comunes son:\n",
    "\n",
    "* mean_squared_error\n",
    "* mean_squared_logarithmic_error\n",
    "* categorical_crossentropy\n",
    "* poisson\n"
   ]
  },
  {
   "cell_type": "markdown",
   "metadata": {
    "deletable": true,
    "editable": true,
    "slideshow": {
     "slide_type": "slide"
    }
   },
   "source": [
    "# *Optimizadors*\n",
    "[keras.io/optimizers](https://keras.io/optimizers/)\n",
    "\n",
    "Es el segundo parámetro necesario para compilar la red. El proceso de aprendizaje es un problema de optimización global en el cual los pesos de la red se van actualizando (aprendiendo) según se va minimizando la función de pérdida.\n",
    "\n",
    "Ejemplos de optimizadores:\n",
    "\n",
    "* *Stochastic gradient descent* (SGD)\n",
    "* RMSprop\n",
    "* Adam\n",
    "* Adagrad\n",
    "* Adamax\n"
   ]
  },
  {
   "cell_type": "markdown",
   "metadata": {
    "collapsed": true,
    "deletable": true,
    "editable": true,
    "slideshow": {
     "slide_type": "slide"
    }
   },
   "source": [
    "# Instalación del entorno de trabajo\n",
    "\n",
    "## Instalación *virtualenv*\n",
    " Los virtualenv son entornos virtuales en los que tenemos un mejor control de las versiones de las librerías que utilizamos\n",
    " ```bash\n",
    " pip install virtualenvwrapper\n",
    " mkdir ~/Virtualenvs\n",
    " echo \"export WORKON_HOME=~/Virtualenvs\" >> ~/.bashrc\n",
    " echo \"source /usr/local/bin/virtualenvwrapper.sh\" >> ~/.bashrc\n",
    " source ~/.bashrc\n",
    "```\n",
    "\n",
    "## Crear entorno virtual\n",
    "\n",
    "```bash\n",
    "mkvirtualenv nombre_que_quieras\n",
    "```\n",
    "Al terminar la creación del entorno, se entrará automáticamente. Verás que en la terminal se ha añadido (nombre_que_quieras)\n",
    "\n",
    "## Entrar y salir del entorno virutal\n",
    "\n",
    "Para entrar (puedes autocompletar el nombre mediante la tecla tab):\n",
    "```bash\n",
    "workon nombre_que_le_hayas_puesto\n",
    "```\n",
    "Para salir:\n",
    "```bash\n",
    "deactivate\n",
    "```\n",
    "\n",
    "\n",
    "## Instalación mediante requirements.txt\n",
    "```bash\n",
    "pip install -r requirements.txt\n",
    "```\n",
    "\n",
    "\n"
   ]
  },
  {
   "cell_type": "markdown",
   "metadata": {
    "deletable": true,
    "editable": true,
    "slideshow": {
     "slide_type": "slide"
    }
   },
   "source": [
    "# Abrir un *notebook*\n",
    "\n",
    "```jupyter notebook``` abrirá una instancia de tu navegador donde podrás interactuar con el *notebook*\n",
    "\n",
    "```bash\n",
    "cd directorio_del_notebook\n",
    "jupyter notebook\n",
    "```"
   ]
  },
  {
   "cell_type": "markdown",
   "metadata": {
    "deletable": true,
    "editable": true,
    "slideshow": {
     "slide_type": "slide"
    }
   },
   "source": [
    "# Ejemplo práctico\n",
    "## ¿Sobrevivirá al Titanic?\n",
    "\n",
    "El 15 de Abril de 1912, el Titanic colisionó con un iceberg. En el accidente murieron 1502 de las 2224 personas abordo.\n",
    "\n",
    "El dataset es un csv compuesto por información sobre los pasajeros del Titanic, por ejemplo, el nombre, sexo, edad, clase social, si sobrevivió o no etc."
   ]
  },
  {
   "cell_type": "markdown",
   "metadata": {
    "deletable": true,
    "editable": true,
    "slideshow": {
     "slide_type": "slide"
    }
   },
   "source": [
    "## Adquisición y tratamiento de datos\n",
    "Pandas es una librería de alto rendimiento para encapsular datos."
   ]
  },
  {
   "cell_type": "code",
   "execution_count": 1,
   "metadata": {
    "collapsed": false,
    "deletable": true,
    "editable": true,
    "slideshow": {
     "slide_type": "fragment"
    }
   },
   "outputs": [
    {
     "name": "stdout",
     "output_type": "stream",
     "text": [
      "<class 'pandas.core.frame.DataFrame'>\n",
      "Int64Index: 712 entries, 49 to 44\n",
      "Data columns (total 12 columns):\n",
      "PassengerId    712 non-null int64\n",
      "Survived       712 non-null int64\n",
      "Pclass         712 non-null int64\n",
      "Name           712 non-null object\n",
      "Sex            712 non-null object\n",
      "Age            565 non-null float64\n",
      "SibSp          712 non-null int64\n",
      "Parch          712 non-null int64\n",
      "Ticket         712 non-null object\n",
      "Fare           712 non-null float64\n",
      "Cabin          164 non-null object\n",
      "Embarked       710 non-null object\n",
      "dtypes: float64(2), int64(5), object(5)\n",
      "memory usage: 72.3+ KB\n"
     ]
    }
   ],
   "source": [
    "import pandas as pd\n",
    "from sklearn.model_selection import train_test_split\n",
    "\n",
    "data_frame = pd.read_csv(\"./Data/train.csv\")\n",
    "train_data_frame, test_data_frame = train_test_split(data_frame, test_size = 0.2)\n",
    "train_data_frame.info()"
   ]
  },
  {
   "cell_type": "markdown",
   "metadata": {
    "deletable": true,
    "editable": true,
    "slideshow": {
     "slide_type": "slide"
    }
   },
   "source": [
    "### Limpieza y observación de los datos\n",
    "A continuación nos desharemos de los datos que no nos interesen"
   ]
  },
  {
   "cell_type": "code",
   "execution_count": 2,
   "metadata": {
    "collapsed": false,
    "deletable": true,
    "editable": true
   },
   "outputs": [
    {
     "name": "stdout",
     "output_type": "stream",
     "text": [
      "<class 'pandas.core.frame.DataFrame'>\n",
      "Int64Index: 179 entries, 316 to 398\n",
      "Data columns (total 12 columns):\n",
      "PassengerId    179 non-null int64\n",
      "Survived       179 non-null int64\n",
      "Pclass         179 non-null int64\n",
      "Name           179 non-null object\n",
      "Sex            179 non-null object\n",
      "Age            149 non-null float64\n",
      "SibSp          179 non-null int64\n",
      "Parch          179 non-null int64\n",
      "Ticket         179 non-null object\n",
      "Fare           179 non-null float64\n",
      "Cabin          40 non-null object\n",
      "Embarked       179 non-null object\n",
      "dtypes: float64(2), int64(5), object(5)\n",
      "memory usage: 18.2+ KB\n",
      "<class 'pandas.core.frame.DataFrame'>\n",
      "Int64Index: 149 entries, 316 to 398\n",
      "Data columns (total 8 columns):\n",
      "Survived    149 non-null int64\n",
      "Pclass      149 non-null int64\n",
      "Sex         149 non-null object\n",
      "Age         149 non-null float64\n",
      "SibSp       149 non-null int64\n",
      "Parch       149 non-null int64\n",
      "Fare        149 non-null float64\n",
      "Embarked    149 non-null object\n",
      "dtypes: float64(2), int64(4), object(2)\n",
      "memory usage: 10.5+ KB\n"
     ]
    }
   ],
   "source": [
    "test_data_frame.info()\n",
    "test_data_frame = test_data_frame.drop(['PassengerId', 'Name', 'Ticket', 'Cabin'], axis=1)\n",
    "test_data_frame = test_data_frame.dropna()\n",
    "test_data_frame.info()"
   ]
  },
  {
   "cell_type": "code",
   "execution_count": 3,
   "metadata": {
    "collapsed": false,
    "deletable": true,
    "editable": true,
    "slideshow": {
     "slide_type": "fragment"
    }
   },
   "outputs": [
    {
     "name": "stdout",
     "output_type": "stream",
     "text": [
      "<class 'pandas.core.frame.DataFrame'>\n",
      "Int64Index: 712 entries, 49 to 44\n",
      "Data columns (total 8 columns):\n",
      "Survived    712 non-null int64\n",
      "Pclass      712 non-null int64\n",
      "Sex         712 non-null object\n",
      "Age         565 non-null float64\n",
      "SibSp       712 non-null int64\n",
      "Parch       712 non-null int64\n",
      "Fare        712 non-null float64\n",
      "Embarked    710 non-null object\n",
      "dtypes: float64(2), int64(4), object(2)\n",
      "memory usage: 50.1+ KB\n"
     ]
    }
   ],
   "source": [
    "train_data_frame = train_data_frame.drop(['PassengerId', 'Name', 'Ticket', 'Cabin'], axis=1)\n",
    "\n",
    "train_data_frame.info()"
   ]
  },
  {
   "cell_type": "markdown",
   "metadata": {
    "deletable": true,
    "editable": true,
    "slideshow": {
     "slide_type": "slide"
    }
   },
   "source": [
    "### Limpieza y observación de los datos\n",
    "El atributo *age* tiene menos valores que el número de elementos, luego hay personas sin edad conocida.\n",
    "\n",
    "Para inicializar esos valores, se usará la función **_fillna_**"
   ]
  },
  {
   "cell_type": "code",
   "execution_count": 4,
   "metadata": {
    "collapsed": false,
    "deletable": true,
    "editable": true,
    "slideshow": {
     "slide_type": "fragment"
    }
   },
   "outputs": [],
   "source": [
    "\n",
    "age_mean = train_data_frame['Age'].mean()\n",
    "# age_mean = train_data_frame['Age'].describe()['mean']\n",
    "train_data_frame['Age'] = train_data_frame['Age'].fillna(age_mean)\n",
    "test_data_frame['Age'] = test_data_frame['Age'].fillna(age_mean)\n"
   ]
  },
  {
   "cell_type": "markdown",
   "metadata": {
    "deletable": true,
    "editable": true,
    "slideshow": {
     "slide_type": "slide"
    }
   },
   "source": [
    "### Limpieza y observación de los datos\n",
    "\n",
    "Los atributos *Sex* y *Embarked* no son números, por lo que, para usarlo como entradas a la red neuronal, hay que transformarlos."
   ]
  },
  {
   "cell_type": "code",
   "execution_count": 5,
   "metadata": {
    "collapsed": false,
    "deletable": true,
    "editable": true,
    "scrolled": true,
    "slideshow": {
     "slide_type": "fragment"
    }
   },
   "outputs": [
    {
     "name": "stdout",
     "output_type": "stream",
     "text": [
      "49     S\n",
      "656    S\n",
      "818    S\n",
      "439    S\n",
      "79     S\n",
      "843    C\n",
      "291    C\n",
      "480    S\n",
      "744    S\n",
      "200    S\n",
      "375    C\n",
      "277    S\n",
      "32     Q\n",
      "463    S\n",
      "272    S\n",
      "360    S\n",
      "570    S\n",
      "253    S\n",
      "547    C\n",
      "86     S\n",
      "367    C\n",
      "436    S\n",
      "392    S\n",
      "187    S\n",
      "311    C\n",
      "402    S\n",
      "667    S\n",
      "713    S\n",
      "413    S\n",
      "223    S\n",
      "      ..\n",
      "378    C\n",
      "435    S\n",
      "489    S\n",
      "511    S\n",
      "530    S\n",
      "135    C\n",
      "761    S\n",
      "431    S\n",
      "682    S\n",
      "601    S\n",
      "587    C\n",
      "652    S\n",
      "532    C\n",
      "749    Q\n",
      "418    S\n",
      "623    S\n",
      "136    S\n",
      "111    C\n",
      "819    S\n",
      "219    S\n",
      "185    S\n",
      "157    S\n",
      "359    Q\n",
      "186    Q\n",
      "262    S\n",
      "869    S\n",
      "556    C\n",
      "117    S\n",
      "64     C\n",
      "44     Q\n",
      "Name: Embarked, dtype: object\n"
     ]
    }
   ],
   "source": [
    "from collections import Counter\n",
    "\n",
    "Counter(train_data_frame['Embarked'])  # Más común\n",
    "train_data_frame['Embarked'] = train_data_frame['Embarked'].fillna('S')\n",
    "train_data_frame['Embarked'] = train_data_frame['Embarked'].map({'C':1, 'S':2, 'Q':3})\n",
    "\n",
    "print(train_data_frame['Embarked'])\n",
    "\n",
    "test_data_frame['Embarked'] = test_data_frame['Embarked'].fillna('S')\n",
    "test_data_frame['Embarked'] = test_data_frame['Embarked'].map({'C':1, 'S':2, 'Q':3})\n",
    "\n",
    "train_data_frame['Sex'] = train_data_frame['Sex'].map({'female':0, 'male':1})\n",
    "test_data_frame['Sex'] = test_data_frame['Sex'].map({'female':0, 'male':1})\n"
   ]
  },
  {
   "cell_type": "markdown",
   "metadata": {
    "collapsed": false,
    "deletable": true,
    "editable": true,
    "slideshow": {
     "slide_type": "slide"
    }
   },
   "source": [
    "### Limpieza y observación de los datos\n",
    "\n",
    "Los atributos *Sex* y *Embarked* no son números, por lo que, para usarlo como entradas a la red neuronal, hay que transformarlos."
   ]
  },
  {
   "cell_type": "code",
   "execution_count": 6,
   "metadata": {
    "collapsed": false,
    "deletable": true,
    "editable": true,
    "slideshow": {
     "slide_type": "fragment"
    }
   },
   "outputs": [
    {
     "name": "stdout",
     "output_type": "stream",
     "text": [
      "<class 'pandas.core.frame.DataFrame'>\n",
      "Int64Index: 149 entries, 316 to 398\n",
      "Data columns (total 8 columns):\n",
      "Survived    149 non-null int64\n",
      "Pclass      149 non-null int64\n",
      "Sex         149 non-null int64\n",
      "Age         149 non-null float64\n",
      "SibSp       149 non-null int64\n",
      "Parch       149 non-null int64\n",
      "Fare        149 non-null float64\n",
      "Embarked    149 non-null int64\n",
      "dtypes: float64(2), int64(6)\n",
      "memory usage: 10.5 KB\n"
     ]
    }
   ],
   "source": [
    "num_features = train_data_frame[train_data_frame.columns.difference(['Survived'])].shape[1]\n",
    "X_train = train_data_frame[train_data_frame.columns.difference(['Survived'])].values\n",
    "y_train = pd.get_dummies(train_data_frame['Survived']).values\n",
    "\n",
    "test_data_frame.info()\n",
    "\n",
    "X_test = test_data_frame[test_data_frame.columns.difference(['Survived'])].values\n",
    "y_test = pd.get_dummies(test_data_frame['Survived']).values"
   ]
  },
  {
   "cell_type": "markdown",
   "metadata": {
    "deletable": true,
    "editable": true,
    "slideshow": {
     "slide_type": "slide"
    }
   },
   "source": [
    "# Creación de la red neuronal\n",
    "\n",
    "Utilizando keras montaremos una red neuronal para que aprenda qué tipos de persona (en base a sus *features*) sobrevivieron y qué tipo, no."
   ]
  },
  {
   "cell_type": "code",
   "execution_count": 7,
   "metadata": {
    "collapsed": false,
    "deletable": true,
    "editable": true,
    "slideshow": {
     "slide_type": "fragment"
    }
   },
   "outputs": [
    {
     "name": "stderr",
     "output_type": "stream",
     "text": [
      "Using TensorFlow backend.\n"
     ]
    }
   ],
   "source": [
    "from keras.models import Sequential\n",
    "from keras.layers import Dense, Activation, Dropout\n",
    "from keras.layers.normalization import BatchNormalization\n",
    "from keras.optimizers import *\n",
    "from keras.callbacks import EarlyStopping, ModelCheckpoint\n",
    "\n",
    "def make_neural_network():\n",
    "    # instantiate model\n",
    "    model = Sequential()\n",
    "\n",
    "    # Construimos la input layer\n",
    "    model.add(Dense(500, input_dim=7, init='glorot_uniform'))\n",
    "    model.add(BatchNormalization())\n",
    "    model.add(Activation('relu'))\n",
    "    model.add(Dropout(0.3))\n",
    "\n",
    "    # Primera hidden layer\n",
    "    model.add(Dense(500, init='glorot_uniform'))\n",
    "    model.add(BatchNormalization())\n",
    "    model.add(Activation('relu'))\n",
    "    model.add(Dropout(0.3))\n",
    "\n",
    "    # Segunda hidden layer\n",
    "    model.add(Dense(500, init='glorot_uniform'))\n",
    "    model.add(BatchNormalization())\n",
    "    model.add(Activation('relu'))\n",
    "    model.add(Dropout(0.3))\n",
    "\n",
    "    # output layer\n",
    "    model.add(Dense(output_dim=2, init='glorot_uniform'))\n",
    "    model.add(BatchNormalization())\n",
    "    model.add(Activation('softmax'))\n",
    "\n",
    "    # setting up the optimization of our weights \n",
    "    sgd = SGD(lr=0.1, decay=1e-6, momentum=0.9, nesterov=True)\n",
    "    model.compile(loss='categorical_crossentropy',\n",
    "                  optimizer=sgd,\n",
    "                  metrics=['accuracy'])\n",
    "    return model\n",
    "\n",
    "model = make_neural_network()\n"
   ]
  },
  {
   "cell_type": "markdown",
   "metadata": {
    "deletable": true,
    "editable": true,
    "slideshow": {
     "slide_type": "slide"
    }
   },
   "source": [
    "# Entrenamiento de la red neuronal"
   ]
  },
  {
   "cell_type": "code",
   "execution_count": 8,
   "metadata": {
    "collapsed": false,
    "deletable": true,
    "editable": true,
    "slideshow": {
     "slide_type": "fragment"
    }
   },
   "outputs": [
    {
     "name": "stdout",
     "output_type": "stream",
     "text": [
      "Train on 569 samples, validate on 143 samples\n",
      "Epoch 1/500\n"
     ]
    },
    {
     "ename": "ValueError",
     "evalue": "could not convert string to float: 'S'",
     "output_type": "error",
     "traceback": [
      "\u001b[0;31m---------------------------------------------------------------------------\u001b[0m",
      "\u001b[0;31mValueError\u001b[0m                                Traceback (most recent call last)",
      "\u001b[0;32m<ipython-input-8-9220eb30718d>\u001b[0m in \u001b[0;36m<module>\u001b[0;34m()\u001b[0m\n\u001b[1;32m      5\u001b[0m               \u001b[0mModelCheckpoint\u001b[0m\u001b[0;34m(\u001b[0m\u001b[0;34m'best-fit-model'\u001b[0m\u001b[0;34m,\u001b[0m\u001b[0mmonitor\u001b[0m\u001b[0;34m=\u001b[0m\u001b[0;34m'val_loss'\u001b[0m\u001b[0;34m,\u001b[0m\u001b[0mverbose\u001b[0m\u001b[0;34m=\u001b[0m\u001b[0;32mTrue\u001b[0m\u001b[0;34m,\u001b[0m\u001b[0msave_best_only\u001b[0m\u001b[0;34m=\u001b[0m\u001b[0;32mTrue\u001b[0m\u001b[0;34m)\u001b[0m\u001b[0;34m\u001b[0m\u001b[0m\n\u001b[1;32m      6\u001b[0m           ])\n\u001b[0;32m----> 7\u001b[0;31m \u001b[0mtrain\u001b[0m\u001b[0;34m(\u001b[0m\u001b[0mmodel\u001b[0m\u001b[0;34m)\u001b[0m\u001b[0;34m\u001b[0m\u001b[0m\n\u001b[0m",
      "\u001b[0;32m<ipython-input-8-9220eb30718d>\u001b[0m in \u001b[0;36mtrain\u001b[0;34m(model)\u001b[0m\n\u001b[1;32m      3\u001b[0m           callbacks=[\n\u001b[1;32m      4\u001b[0m               \u001b[0mEarlyStopping\u001b[0m\u001b[0;34m(\u001b[0m\u001b[0mverbose\u001b[0m\u001b[0;34m=\u001b[0m\u001b[0;32mTrue\u001b[0m\u001b[0;34m,\u001b[0m\u001b[0mpatience\u001b[0m\u001b[0;34m=\u001b[0m\u001b[0;36m40\u001b[0m\u001b[0;34m,\u001b[0m\u001b[0mmonitor\u001b[0m\u001b[0;34m=\u001b[0m\u001b[0;34m'val_loss'\u001b[0m\u001b[0;34m)\u001b[0m\u001b[0;34m,\u001b[0m\u001b[0;34m\u001b[0m\u001b[0m\n\u001b[0;32m----> 5\u001b[0;31m               \u001b[0mModelCheckpoint\u001b[0m\u001b[0;34m(\u001b[0m\u001b[0;34m'best-fit-model'\u001b[0m\u001b[0;34m,\u001b[0m\u001b[0mmonitor\u001b[0m\u001b[0;34m=\u001b[0m\u001b[0;34m'val_loss'\u001b[0m\u001b[0;34m,\u001b[0m\u001b[0mverbose\u001b[0m\u001b[0;34m=\u001b[0m\u001b[0;32mTrue\u001b[0m\u001b[0;34m,\u001b[0m\u001b[0msave_best_only\u001b[0m\u001b[0;34m=\u001b[0m\u001b[0;32mTrue\u001b[0m\u001b[0;34m)\u001b[0m\u001b[0;34m\u001b[0m\u001b[0m\n\u001b[0m\u001b[1;32m      6\u001b[0m           ])\n\u001b[1;32m      7\u001b[0m \u001b[0mtrain\u001b[0m\u001b[0;34m(\u001b[0m\u001b[0mmodel\u001b[0m\u001b[0;34m)\u001b[0m\u001b[0;34m\u001b[0m\u001b[0m\n",
      "\u001b[0;32m/home/hyogen/.virtualenvs/Charlas/lib/python3.6/site-packages/keras/models.py\u001b[0m in \u001b[0;36mfit\u001b[0;34m(self, x, y, batch_size, nb_epoch, verbose, callbacks, validation_split, validation_data, shuffle, class_weight, sample_weight, initial_epoch, **kwargs)\u001b[0m\n\u001b[1;32m    670\u001b[0m                               \u001b[0mclass_weight\u001b[0m\u001b[0;34m=\u001b[0m\u001b[0mclass_weight\u001b[0m\u001b[0;34m,\u001b[0m\u001b[0;34m\u001b[0m\u001b[0m\n\u001b[1;32m    671\u001b[0m                               \u001b[0msample_weight\u001b[0m\u001b[0;34m=\u001b[0m\u001b[0msample_weight\u001b[0m\u001b[0;34m,\u001b[0m\u001b[0;34m\u001b[0m\u001b[0m\n\u001b[0;32m--> 672\u001b[0;31m                               initial_epoch=initial_epoch)\n\u001b[0m\u001b[1;32m    673\u001b[0m \u001b[0;34m\u001b[0m\u001b[0m\n\u001b[1;32m    674\u001b[0m     def evaluate(self, x, y, batch_size=32, verbose=1,\n",
      "\u001b[0;32m/home/hyogen/.virtualenvs/Charlas/lib/python3.6/site-packages/keras/engine/training.py\u001b[0m in \u001b[0;36mfit\u001b[0;34m(self, x, y, batch_size, nb_epoch, verbose, callbacks, validation_split, validation_data, shuffle, class_weight, sample_weight, initial_epoch)\u001b[0m\n\u001b[1;32m   1190\u001b[0m                               \u001b[0mval_f\u001b[0m\u001b[0;34m=\u001b[0m\u001b[0mval_f\u001b[0m\u001b[0;34m,\u001b[0m \u001b[0mval_ins\u001b[0m\u001b[0;34m=\u001b[0m\u001b[0mval_ins\u001b[0m\u001b[0;34m,\u001b[0m \u001b[0mshuffle\u001b[0m\u001b[0;34m=\u001b[0m\u001b[0mshuffle\u001b[0m\u001b[0;34m,\u001b[0m\u001b[0;34m\u001b[0m\u001b[0m\n\u001b[1;32m   1191\u001b[0m                               \u001b[0mcallback_metrics\u001b[0m\u001b[0;34m=\u001b[0m\u001b[0mcallback_metrics\u001b[0m\u001b[0;34m,\u001b[0m\u001b[0;34m\u001b[0m\u001b[0m\n\u001b[0;32m-> 1192\u001b[0;31m                               initial_epoch=initial_epoch)\n\u001b[0m\u001b[1;32m   1193\u001b[0m \u001b[0;34m\u001b[0m\u001b[0m\n\u001b[1;32m   1194\u001b[0m     \u001b[0;32mdef\u001b[0m \u001b[0mevaluate\u001b[0m\u001b[0;34m(\u001b[0m\u001b[0mself\u001b[0m\u001b[0;34m,\u001b[0m \u001b[0mx\u001b[0m\u001b[0;34m,\u001b[0m \u001b[0my\u001b[0m\u001b[0;34m,\u001b[0m \u001b[0mbatch_size\u001b[0m\u001b[0;34m=\u001b[0m\u001b[0;36m32\u001b[0m\u001b[0;34m,\u001b[0m \u001b[0mverbose\u001b[0m\u001b[0;34m=\u001b[0m\u001b[0;36m1\u001b[0m\u001b[0;34m,\u001b[0m \u001b[0msample_weight\u001b[0m\u001b[0;34m=\u001b[0m\u001b[0;32mNone\u001b[0m\u001b[0;34m)\u001b[0m\u001b[0;34m:\u001b[0m\u001b[0;34m\u001b[0m\u001b[0m\n",
      "\u001b[0;32m/home/hyogen/.virtualenvs/Charlas/lib/python3.6/site-packages/keras/engine/training.py\u001b[0m in \u001b[0;36m_fit_loop\u001b[0;34m(self, f, ins, out_labels, batch_size, nb_epoch, verbose, callbacks, val_f, val_ins, shuffle, callback_metrics, initial_epoch)\u001b[0m\n\u001b[1;32m    890\u001b[0m                 \u001b[0mbatch_logs\u001b[0m\u001b[0;34m[\u001b[0m\u001b[0;34m'size'\u001b[0m\u001b[0;34m]\u001b[0m \u001b[0;34m=\u001b[0m \u001b[0mlen\u001b[0m\u001b[0;34m(\u001b[0m\u001b[0mbatch_ids\u001b[0m\u001b[0;34m)\u001b[0m\u001b[0;34m\u001b[0m\u001b[0m\n\u001b[1;32m    891\u001b[0m                 \u001b[0mcallbacks\u001b[0m\u001b[0;34m.\u001b[0m\u001b[0mon_batch_begin\u001b[0m\u001b[0;34m(\u001b[0m\u001b[0mbatch_index\u001b[0m\u001b[0;34m,\u001b[0m \u001b[0mbatch_logs\u001b[0m\u001b[0;34m)\u001b[0m\u001b[0;34m\u001b[0m\u001b[0m\n\u001b[0;32m--> 892\u001b[0;31m                 \u001b[0mouts\u001b[0m \u001b[0;34m=\u001b[0m \u001b[0mf\u001b[0m\u001b[0;34m(\u001b[0m\u001b[0mins_batch\u001b[0m\u001b[0;34m)\u001b[0m\u001b[0;34m\u001b[0m\u001b[0m\n\u001b[0m\u001b[1;32m    893\u001b[0m                 \u001b[0;32mif\u001b[0m \u001b[0;32mnot\u001b[0m \u001b[0misinstance\u001b[0m\u001b[0;34m(\u001b[0m\u001b[0mouts\u001b[0m\u001b[0;34m,\u001b[0m \u001b[0mlist\u001b[0m\u001b[0;34m)\u001b[0m\u001b[0;34m:\u001b[0m\u001b[0;34m\u001b[0m\u001b[0m\n\u001b[1;32m    894\u001b[0m                     \u001b[0mouts\u001b[0m \u001b[0;34m=\u001b[0m \u001b[0;34m[\u001b[0m\u001b[0mouts\u001b[0m\u001b[0;34m]\u001b[0m\u001b[0;34m\u001b[0m\u001b[0m\n",
      "\u001b[0;32m/home/hyogen/.virtualenvs/Charlas/lib/python3.6/site-packages/keras/backend/tensorflow_backend.py\u001b[0m in \u001b[0;36m__call__\u001b[0;34m(self, inputs)\u001b[0m\n\u001b[1;32m   1898\u001b[0m         \u001b[0msession\u001b[0m \u001b[0;34m=\u001b[0m \u001b[0mget_session\u001b[0m\u001b[0;34m(\u001b[0m\u001b[0;34m)\u001b[0m\u001b[0;34m\u001b[0m\u001b[0m\n\u001b[1;32m   1899\u001b[0m         updated = session.run(self.outputs + [self.updates_op],\n\u001b[0;32m-> 1900\u001b[0;31m                               feed_dict=feed_dict)\n\u001b[0m\u001b[1;32m   1901\u001b[0m         \u001b[0;32mreturn\u001b[0m \u001b[0mupdated\u001b[0m\u001b[0;34m[\u001b[0m\u001b[0;34m:\u001b[0m\u001b[0mlen\u001b[0m\u001b[0;34m(\u001b[0m\u001b[0mself\u001b[0m\u001b[0;34m.\u001b[0m\u001b[0moutputs\u001b[0m\u001b[0;34m)\u001b[0m\u001b[0;34m]\u001b[0m\u001b[0;34m\u001b[0m\u001b[0m\n\u001b[1;32m   1902\u001b[0m \u001b[0;34m\u001b[0m\u001b[0m\n",
      "\u001b[0;32m/home/hyogen/.virtualenvs/Charlas/lib/python3.6/site-packages/tensorflow/python/client/session.py\u001b[0m in \u001b[0;36mrun\u001b[0;34m(self, fetches, feed_dict, options, run_metadata)\u001b[0m\n\u001b[1;32m    764\u001b[0m     \u001b[0;32mtry\u001b[0m\u001b[0;34m:\u001b[0m\u001b[0;34m\u001b[0m\u001b[0m\n\u001b[1;32m    765\u001b[0m       result = self._run(None, fetches, feed_dict, options_ptr,\n\u001b[0;32m--> 766\u001b[0;31m                          run_metadata_ptr)\n\u001b[0m\u001b[1;32m    767\u001b[0m       \u001b[0;32mif\u001b[0m \u001b[0mrun_metadata\u001b[0m\u001b[0;34m:\u001b[0m\u001b[0;34m\u001b[0m\u001b[0m\n\u001b[1;32m    768\u001b[0m         \u001b[0mproto_data\u001b[0m \u001b[0;34m=\u001b[0m \u001b[0mtf_session\u001b[0m\u001b[0;34m.\u001b[0m\u001b[0mTF_GetBuffer\u001b[0m\u001b[0;34m(\u001b[0m\u001b[0mrun_metadata_ptr\u001b[0m\u001b[0;34m)\u001b[0m\u001b[0;34m\u001b[0m\u001b[0m\n",
      "\u001b[0;32m/home/hyogen/.virtualenvs/Charlas/lib/python3.6/site-packages/tensorflow/python/client/session.py\u001b[0m in \u001b[0;36m_run\u001b[0;34m(self, handle, fetches, feed_dict, options, run_metadata)\u001b[0m\n\u001b[1;32m    935\u001b[0m                 ' to a larger type (e.g. int64).')\n\u001b[1;32m    936\u001b[0m \u001b[0;34m\u001b[0m\u001b[0m\n\u001b[0;32m--> 937\u001b[0;31m           \u001b[0mnp_val\u001b[0m \u001b[0;34m=\u001b[0m \u001b[0mnp\u001b[0m\u001b[0;34m.\u001b[0m\u001b[0masarray\u001b[0m\u001b[0;34m(\u001b[0m\u001b[0msubfeed_val\u001b[0m\u001b[0;34m,\u001b[0m \u001b[0mdtype\u001b[0m\u001b[0;34m=\u001b[0m\u001b[0msubfeed_dtype\u001b[0m\u001b[0;34m)\u001b[0m\u001b[0;34m\u001b[0m\u001b[0m\n\u001b[0m\u001b[1;32m    938\u001b[0m \u001b[0;34m\u001b[0m\u001b[0m\n\u001b[1;32m    939\u001b[0m           \u001b[0;32mif\u001b[0m \u001b[0;32mnot\u001b[0m \u001b[0msubfeed_t\u001b[0m\u001b[0;34m.\u001b[0m\u001b[0mget_shape\u001b[0m\u001b[0;34m(\u001b[0m\u001b[0;34m)\u001b[0m\u001b[0;34m.\u001b[0m\u001b[0mis_compatible_with\u001b[0m\u001b[0;34m(\u001b[0m\u001b[0mnp_val\u001b[0m\u001b[0;34m.\u001b[0m\u001b[0mshape\u001b[0m\u001b[0;34m)\u001b[0m\u001b[0;34m:\u001b[0m\u001b[0;34m\u001b[0m\u001b[0m\n",
      "\u001b[0;32m/home/hyogen/.virtualenvs/Charlas/lib/python3.6/site-packages/numpy/core/numeric.py\u001b[0m in \u001b[0;36masarray\u001b[0;34m(a, dtype, order)\u001b[0m\n\u001b[1;32m    529\u001b[0m \u001b[0;34m\u001b[0m\u001b[0m\n\u001b[1;32m    530\u001b[0m     \"\"\"\n\u001b[0;32m--> 531\u001b[0;31m     \u001b[0;32mreturn\u001b[0m \u001b[0marray\u001b[0m\u001b[0;34m(\u001b[0m\u001b[0ma\u001b[0m\u001b[0;34m,\u001b[0m \u001b[0mdtype\u001b[0m\u001b[0;34m,\u001b[0m \u001b[0mcopy\u001b[0m\u001b[0;34m=\u001b[0m\u001b[0;32mFalse\u001b[0m\u001b[0;34m,\u001b[0m \u001b[0morder\u001b[0m\u001b[0;34m=\u001b[0m\u001b[0morder\u001b[0m\u001b[0;34m)\u001b[0m\u001b[0;34m\u001b[0m\u001b[0m\n\u001b[0m\u001b[1;32m    532\u001b[0m \u001b[0;34m\u001b[0m\u001b[0m\n\u001b[1;32m    533\u001b[0m \u001b[0;34m\u001b[0m\u001b[0m\n",
      "\u001b[0;31mValueError\u001b[0m: could not convert string to float: 'S'"
     ]
    }
   ],
   "source": [
    "def train(model):# running the fitting\n",
    "    model.fit(X_train, y_train, batch_size=32, nb_epoch=500, validation_split=0.2, verbose = 1,\n",
    "          callbacks=[\n",
    "              EarlyStopping(verbose=True,patience=40,monitor='val_loss'),\n",
    "              ModelCheckpoint('best-fit-model',monitor='val_loss',verbose=True,save_best_only=True)\n",
    "          ])\n",
    "train(model)"
   ]
  },
  {
   "cell_type": "markdown",
   "metadata": {
    "deletable": true,
    "editable": true,
    "slideshow": {
     "slide_type": "slide"
    }
   },
   "source": [
    "# Clasificación del *dataset* de validación"
   ]
  },
  {
   "cell_type": "code",
   "execution_count": null,
   "metadata": {
    "collapsed": false,
    "deletable": true,
    "editable": true,
    "slideshow": {
     "slide_type": "fragment"
    }
   },
   "outputs": [],
   "source": [
    "model.load_weights('best-fit-model')\n",
    "\n",
    "model.fit(X_test, y_test)\n",
    "\n",
    "loss, accuracy = model.evaluate(X_test, y_test, verbose=0)\n",
    "print(\"Accuracy = {:.2f}\".format(accuracy))\n",
    "\n"
   ]
  },
  {
   "cell_type": "markdown",
   "metadata": {
    "deletable": true,
    "editable": true,
    "slideshow": {
     "slide_type": "slide"
    }
   },
   "source": [
    "# Una vuelta de tuerca\n",
    "Un 70% no nos parece un resultado excesivamente bueno."
   ]
  },
  {
   "cell_type": "code",
   "execution_count": null,
   "metadata": {
    "collapsed": false,
    "deletable": true,
    "editable": true,
    "slideshow": {
     "slide_type": "fragment"
    }
   },
   "outputs": [],
   "source": [
    "from sklearn.preprocessing import StandardScaler\n",
    "\n",
    "scaler = StandardScaler()\n",
    "\n",
    "# print(X_train)\n",
    "\n",
    "X_train = scaler.fit_transform(X_train)\n",
    "X_test = scaler.fit_transform(X_test)\n",
    "\n",
    "model_2 = make_neural_network()\n",
    "\n",
    "# running the fitting\n",
    "model_2.fit(X_train, y_train, batch_size=32, nb_epoch=500, validation_split=0.2, verbose = 1,\n",
    "          callbacks=[\n",
    "              EarlyStopping(verbose=True,patience=40,monitor='val_loss'),\n",
    "              ModelCheckpoint('best-fit-model',monitor='val_loss',verbose=True,save_best_only=True)\n",
    "          ])\n",
    "\n"
   ]
  },
  {
   "cell_type": "markdown",
   "metadata": {
    "deletable": true,
    "editable": true,
    "slideshow": {
     "slide_type": "slide"
    }
   },
   "source": [
    "# Una vuelta de tuerca (2)"
   ]
  },
  {
   "cell_type": "code",
   "execution_count": null,
   "metadata": {
    "collapsed": false,
    "deletable": true,
    "editable": true,
    "slideshow": {
     "slide_type": "subslide"
    }
   },
   "outputs": [],
   "source": [
    "model_2.load_weights('best-fit-model')\n",
    "\n",
    "model_2.fit(X_test, y_test)\n",
    "\n",
    "\n",
    "loss, accuracy = model_2.evaluate(X_test, y_test, verbose=0)\n",
    "print(\"Accuracy = {:.2f}\".format(accuracy))"
   ]
  },
  {
   "cell_type": "markdown",
   "metadata": {
    "deletable": true,
    "editable": true,
    "slideshow": {
     "slide_type": "slide"
    }
   },
   "source": [
    "# Inconvenientes del *deep learning*\n",
    "\n",
    "A pesar del cuento de que el *deep learning* aprende los features y los factores de manera automática,\n",
    "para problemas reales, sigue siendo necesario que los datos estén bien estructurados y relativamente adaptados\n",
    "al problema.\n",
    "\n",
    "Problemas complejos requieren **grandes** cantidades de datos.\n",
    "\n",
    "Conseguir resultados superiores al 98~99% de aciertos (lo que espera la gente de nuestro producto, sino \"no funciona\") requiere ajustes muchos hiperparámetros (*learning rate*, *loss function*, *mini-batch size*, número de iteraciones en la etapa de aprendizaje, *momentum*, selección de optimizadores...)\n",
    "\n",
    "¡Las matemáticas son necesarias! (especialmente la estadística -> [Statistics for hackers](https://www.youtube.com/watch?v=Iq9DzN6mvYA))\n"
   ]
  },
  {
   "cell_type": "markdown",
   "metadata": {
    "deletable": true,
    "editable": true,
    "slideshow": {
     "slide_type": "slide"
    }
   },
   "source": [
    "# Recursos recomendados\n",
    "\n",
    "* (Libro) Deep learning por Ian Goodfellow, Yoshua Bengio y Aaron Courville\n",
    "    http://www.deeplearningbook.org/\n",
    "* (Curso *online*) Machine learning por Andrew Ng\n",
    "     https://www.coursera.org/learn/machine-learning\n",
    "* (Documentación) Scikit-learn\n",
    "     http://scikit-learn.org/stable/documentation.html\n",
    "* (Curso *online*) Deep Learning with TensorFlow por Saeed Aghabozorgi\n",
    "     https://bigdatauniversity.com/courses/deep-learning-tensorflow/\n",
    "* (Web) Kaggle, competiciones de ánalisis de datos y predicciones usando *machine learning*\n",
    "     https://kaggle.com"
   ]
  },
  {
   "cell_type": "markdown",
   "metadata": {
    "deletable": true,
    "editable": true,
    "slideshow": {
     "slide_type": "slide"
    }
   },
   "source": [
    "<img src=\"./Figures/thank-you.gif\" style=\"height: 500px; width:auto ; margin:0px auto;display:block ; scroll=1\"/>\n"
   ]
  }
 ],
 "metadata": {
  "celltoolbar": "Slideshow",
  "kernelspec": {
   "display_name": "Python 3",
   "language": "python",
   "name": "python3"
  },
  "language_info": {
   "codemirror_mode": {
    "name": "ipython",
    "version": 3
   },
   "file_extension": ".py",
   "mimetype": "text/x-python",
   "name": "python",
   "nbconvert_exporter": "python",
   "pygments_lexer": "ipython3",
   "version": "3.6.0"
  }
 },
 "nbformat": 4,
 "nbformat_minor": 2
}
